{
 "cells": [
  {
   "cell_type": "code",
   "execution_count": 12,
   "id": "904737a8-2019-453a-91f8-c9c258115d10",
   "metadata": {},
   "outputs": [],
   "source": [
    "import pandas as pd\n",
    "import numpy as np\n",
    "import networkx as nx\n",
    "import random"
   ]
  },
  {
   "cell_type": "code",
   "execution_count": 13,
   "id": "fc4dba8b-2d73-44e2-b14c-85daa3c926cd",
   "metadata": {},
   "outputs": [],
   "source": [
    "###################\n",
    "### PIMA INDIAN ###\n",
    "###################\n",
    "\n",
    "# pre-generated random graph structure\n",
    "\n",
    "PID_train = pd.read_csv(\"data/PID_train.csv\")\n",
    "PID_train.insert(0, \"id\", range(1, len(PID_train) + 1))\n",
    "PID_train.to_csv(\"data/PID_train_new.csv\", index=False)\n",
    "\n",
    "num_nodes = len(PID_train)\n",
    "probability = 0.1 \n",
    "G = nx.erdos_renyi_graph(n=num_nodes, p=probability)\n",
    "\n",
    "node_mapping = {i: int(PID_train.iloc[i][\"id\"]) for i in range(num_nodes)}\n",
    "G = nx.relabel_nodes(G, node_mapping)\n",
    "\n",
    "adj_list = {node: [int(neighbor) for neighbor in G.neighbors(node)] for node in G.nodes()}\n",
    "\n",
    "with open(\"data/PID_graph.csv\", \"w\") as f:\n",
    "    for node, neighbors in adj_list.items():\n",
    "        line = f\"{int(node)},\" + \",\".join(map(str, neighbors)) + \"\\n\" \n",
    "        f.write(line)"
   ]
  },
  {
   "cell_type": "code",
   "execution_count": 49,
   "id": "24c1f7a8-d8e1-4b37-9df4-39050525dae1",
   "metadata": {},
   "outputs": [
    {
     "name": "stdout",
     "output_type": "stream",
     "text": [
      "Starting SaNGreeA algorithm...\n",
      "Found age range of: [21:72]\n",
      "Found blood pressure range of: [24.0:122.0]\n",
      "Found insulin range of: [0.0:846.0]\n",
      "Successfully built 67 clusters.\n"
     ]
    }
   ],
   "source": [
    "with open('SaNGreeA-anonymisation_PID/src/SaNGreeA_PID.py') as file:\n",
    "    code = file.read()\n",
    "\n",
    "exec(code)"
   ]
  },
  {
   "cell_type": "code",
   "execution_count": 12,
   "id": "c2c4073f-7cc3-4352-901f-ae7e164dc12d",
   "metadata": {},
   "outputs": [],
   "source": [
    "# Save local transformed dataset\n",
    "\n",
    "PID_train_LT = pd.read_csv(\"output/PID_anonymized.csv\")\n",
    "PID_train = pd.read_csv(\"data/PID_train_new.csv\")\n",
    "\n",
    "PID_train['Age'] = PID_train_LT['Age']  \n",
    "PID_train['BloodPressure'] = PID_train_LT[' BloodPressure'] \n",
    "PID_train['Insulin'] = PID_train_LT[' Insulin'] \n",
    "PID_train.drop(columns=['id'], inplace=True)\n",
    "\n",
    "PID_train.to_csv(\"data/PID_train_LT.csv\", index=False)"
   ]
  },
  {
   "cell_type": "code",
   "execution_count": 6,
   "id": "5177f159-c061-4b30-b77c-f45bc71e1b95",
   "metadata": {},
   "outputs": [],
   "source": [
    "###########################\n",
    "### CREDIT CARD DEFAULT ###\n",
    "###########################\n",
    "\n",
    "CCD_train = pd.read_csv(\"data/CCD_train.csv\")\n",
    "CCD_train.insert(0, \"id\", range(1, len(CCD_train) + 1))\n",
    "\n",
    "education_mapping = {\n",
    "    0: 'unknown',\n",
    "    1: 'graduate school',\n",
    "    2: 'university',\n",
    "    3: 'high school',\n",
    "    4: 'others',\n",
    "    5: 'unknown',\n",
    "    6: 'unknown' \n",
    "}\n",
    "\n",
    "CCD_train['EDUCATION'] = CCD_train['EDUCATION'].replace(education_mapping)\n",
    "\n",
    "## pre-generated random graph structure\n",
    "subset_size = int(0.5 * len(CCD_train))\n",
    "CCD_train_subset = CCD_train.sample(n=subset_size, random_state=42).reset_index(drop=True)\n",
    "CCD_train_subset.to_csv(\"data/CCD_train_subset.csv\", index=False)\n",
    "num_nodes = len(CCD_train_subset)\n",
    "\n",
    "probability = 0.0001  \n",
    "G = nx.erdos_renyi_graph(n=num_nodes, p=probability)\n",
    "\n",
    "node_mapping = {i: int(CCD_train_subset.iloc[i][\"id\"]) for i in range(num_nodes)} \n",
    "G = nx.relabel_nodes(G, node_mapping)\n",
    "\n",
    "adj_list = {node: [int(neighbor) for neighbor in G.neighbors(node)] for node in G.nodes()}  \n",
    "\n",
    "with open(\"data/CCD_graph.csv\", \"w\") as f:\n",
    "    for node, neighbors in adj_list.items():\n",
    "        line = f\"{int(node)},\" + \",\".join(map(str, neighbors)) + \"\\n\" \n",
    "        f.write(line)"
   ]
  },
  {
   "cell_type": "code",
   "execution_count": 10,
   "id": "c29e3c31-cca4-4618-8f4f-35d47e99670e",
   "metadata": {},
   "outputs": [],
   "source": [
    "# Save local transformed dataset\n",
    "\n",
    "CCD_train_LT = pd.read_csv(\"output/CCD_anonymized.csv\")\n",
    "CCD_train_subset = pd.read_csv(\"data/CCD_train_subset.csv\")\n",
    "\n",
    "CCD_train_subset['EDUCATION'] = CCD_train_LT['EDUCATION']  \n",
    "CCD_train_subset['LIMIT_BAL'] = CCD_train_LT[' LIMIT_BAL'] \n",
    "CCD_train_subset['PAY_AMT1'] = CCD_train_LT[' PAY_AMT1'] \n",
    "CCD_train_subset['BILL_AMT1'] = CCD_train_LT[' BILL_AMT1'] \n",
    "CCD_train_subset.drop(columns=['id'], inplace=True)\n",
    "\n",
    "CCD_train_subset.to_csv(\"data/CCD_train_LT.csv\", index=False)"
   ]
  },
  {
   "cell_type": "code",
   "execution_count": 7,
   "id": "1280aff5-af07-4583-99f6-2a767168363a",
   "metadata": {},
   "outputs": [],
   "source": [
    "#####################\n",
    "### CENSUS INCOME ###\n",
    "#####################\n",
    "\n",
    "KDD_train = pd.read_csv(\"data/KDD_train.csv\")\n",
    "KDD_train.insert(0, \"id\", range(1, len(KDD_train) + 1))\n",
    "\n",
    "## pre-generated random graph structure\n",
    "subset_size = int(0.2 * len(KDD_train))\n",
    "KDD_train_subset = KDD_train.sample(n=subset_size, random_state=42).reset_index(drop=True)\n",
    "KDD_train_subset['birth_country_mother'] = KDD_train_subset['birth_country_mother'].str.strip()\n",
    "KDD_train_subset['marital_stat'] = KDD_train_subset['marital_stat'].str.strip()\n",
    "KDD_train_subset.to_csv(\"data/KDD_train_subset.csv\", index=False)\n",
    "num_nodes = len(KDD_train_subset)\n",
    "\n",
    "probability = 0.0001 \n",
    "G = nx.erdos_renyi_graph(n=num_nodes, p=probability)\n",
    "\n",
    "node_mapping = {i: int(KDD_train_subset.iloc[i][\"id\"]) for i in range(num_nodes)}\n",
    "G = nx.relabel_nodes(G, node_mapping)\n",
    "\n",
    "adj_list = {node: [int(neighbor) for neighbor in G.neighbors(node)] for node in G.nodes()}\n",
    "\n",
    "with open(\"data/KDD_graph.csv\", \"w\") as f:\n",
    "    for node, neighbors in adj_list.items():\n",
    "        line = f\"{int(node)},\" + \",\".join(map(str, neighbors)) + \"\\n\"\n",
    "        f.write(line)"
   ]
  },
  {
   "cell_type": "code",
   "execution_count": 13,
   "id": "e13ea726-2b8c-4f55-b680-877fb789110b",
   "metadata": {},
   "outputs": [],
   "source": [
    "# Save local transformed dataset\n",
    "\n",
    "KDD_train_LT = pd.read_csv(\"output/KDD_anonymized.csv\")\n",
    "KDD_train_subset = pd.read_csv(\"data/KDD_train_subset.csv\")\n",
    "\n",
    "KDD_train_subset['age'] = KDD_train_LT['age']  \n",
    "KDD_train_subset['birth_country_mother'] = KDD_train_LT[' birth_country_mother'] \n",
    "KDD_train_subset['marital_stat'] = KDD_train_LT[' marital_stat'] \n",
    "KDD_train_subset.drop(columns=['id'], inplace=True)\n",
    "\n",
    "KDD_train_subset.to_csv(\"data/KDD_train_LT.csv\", index=False)"
   ]
  }
 ],
 "metadata": {
  "kernelspec": {
   "display_name": "Python 3 (ipykernel)",
   "language": "python",
   "name": "python3"
  },
  "language_info": {
   "codemirror_mode": {
    "name": "ipython",
    "version": 3
   },
   "file_extension": ".py",
   "mimetype": "text/x-python",
   "name": "python",
   "nbconvert_exporter": "python",
   "pygments_lexer": "ipython3",
   "version": "3.11.10"
  }
 },
 "nbformat": 4,
 "nbformat_minor": 5
}
